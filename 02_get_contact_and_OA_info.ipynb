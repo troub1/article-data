{
 "cells": [
  {
   "cell_type": "code",
   "execution_count": 6,
   "metadata": {},
   "outputs": [],
   "source": [
    "# File: 02_get_contact_and_OA_info\n",
    "# Takes file (name) from file 01_get_article_data and retrieves contact information (names, titles, department, email) for MU\n",
    "#      authors (currently, corresponding authors with MU affiliations).\n",
    "\n",
    "import json, re\n",
    "import pandas as pd\n",
    "\n",
    "#articleData = pd.read_csv('data/2019-ALL-scopus_plus_unpaywall.csv', encoding='utf-8')\n",
    "articleData = pd.read_csv('', encoding='utf-8') #filename is first argument"
   ]
  },
  {
   "cell_type": "code",
   "execution_count": null,
   "metadata": {},
   "outputs": [],
   "source": [
    "from ldap3 import Server, Connection, ALL, NTLM\n",
    "server_address = '' #LDAP/directory server address here\n",
    "server = Server(server_address, get_info=ALL)\n",
    "conn = Connection(server, user=\"\", password=\"\", authentication=NTLM, auto_bind=True) #not ideal, but for now is coded that you have to put your username/password here; CAREFUL with Github (should put this in a config file)\n",
    "print(conn)\n",
    "conn.extend.standard.who_am_i()"
   ]
  },
  {
   "cell_type": "code",
   "execution_count": null,
   "metadata": {},
   "outputs": [],
   "source": [
    "articleData.keys()"
   ]
  },
  {
   "cell_type": "code",
   "execution_count": null,
   "metadata": {},
   "outputs": [],
   "source": [
    "# Look for corresponding authors @missouri.edu\n",
    "# TRY TO ADD CONDITIONAL FOR @health (added 10/12/2020)\n",
    "mu_corr_emails = []\n",
    "mu_corr_givenNames = []\n",
    "mu_corr_surnames = []\n",
    "mu_corr_departments = []\n",
    "\n",
    "directory1 = '' #domain definition goes here, ie 'dc=umsystem, dc=edu'\n",
    "directory2 = '' #domain definition for health sciences (or other secondary directory)\n",
    "\n",
    "\n",
    "#For each corresponding author, see if they have an @missouri.edu email address, and if so, collect their information (your directory configuration may well be different, available attributes or their names, etc.)\n",
    "#Because we're going to match up these rows with the original article data rows, if there are no matches, or no correspondence address at all (all of the \"else\" conditions), append '' to the column\n",
    "for index, row in articleData.iterrows():\n",
    "#    print(row['Correspondence Address'])\n",
    "    if (not pd.isnull(row['Correspondence Address'])):\n",
    "        match = re.search(r'[\\w\\.-]+@[\\w\\.]*missouri\\.edu', str(row['Correspondence Address']))\n",
    "        if(match is not None):\n",
    "            print(match.group())\n",
    "            mu_corr_emails.append(match.group())\n",
    "            conn.search(directory1, '(mail='+match.group()+')', attributes=['mail','title', 'sn', 'initials', 'middleName', 'givenName', 'department'])\n",
    "            print(len(conn.entries))\n",
    "            if len(conn.entries) == 1:\n",
    "                print(conn.entries[0].givenName, conn.entries[0].initials, conn.entries[0].sn, conn.entries[0].department)\n",
    "                mu_corr_givenNames.append(conn.entries[0].givenName)\n",
    "                mu_corr_surnames.append(conn.entries[0].sn)\n",
    "                mu_corr_departments.append(conn.entries[0].department)\n",
    "            else: #try @health\n",
    "                conn.search(directory2, '(mail='+match.group()+')', attributes=['mail','title', 'sn', 'initials', 'middleName', 'givenName', 'department'])\n",
    "                print(len(conn.entries))\n",
    "                if len(conn.entries) == 1:\n",
    "                    print(conn.entries[0].givenName, conn.entries[0].initials, conn.entries[0].sn, conn.entries[0].department)\n",
    "                    mu_corr_givenNames.append(conn.entries[0].givenName)\n",
    "                    mu_corr_surnames.append(conn.entries[0].sn)\n",
    "                    mu_corr_departments.append(conn.entries[0].department)\n",
    "                else:\n",
    "                    mu_corr_givenNames.append('')\n",
    "                    mu_corr_surnames.append('')\n",
    "                    mu_corr_departments.append('')\n",
    "        else:\n",
    "            mu_corr_emails.append('')\n",
    "            mu_corr_givenNames.append('')\n",
    "            mu_corr_surnames.append('')\n",
    "            mu_corr_departments.append('')\n",
    "\n",
    "    else:\n",
    "        mu_corr_emails.append('')\n",
    "        mu_corr_givenNames.append('')\n",
    "        mu_corr_surnames.append('')\n",
    "        mu_corr_departments.append('')"
   ]
  },
  {
   "cell_type": "code",
   "execution_count": null,
   "metadata": {},
   "outputs": [],
   "source": [
    "#Add the name arrays as new columns to our articleData dataframe\n",
    "articleData['corr email'] = mu_corr_emails\n",
    "articleData['corr given name'] = mu_corr_givenNames\n",
    "articleData['corr surname'] = mu_corr_surnames\n",
    "articleData['corr department'] = mu_corr_departments"
   ]
  },
  {
   "cell_type": "code",
   "execution_count": null,
   "metadata": {},
   "outputs": [],
   "source": [
    "#Save to .csv (add filename)\n",
    "articleData.to_csv('', encoding='utf-8-sig') #utf-8-sig adds the BOM character, which seems to help Excel properly read the encoding of special character, if the file is opened in Excel"
   ]
  }
 ],
 "metadata": {
  "kernelspec": {
   "display_name": "Python 3",
   "language": "python",
   "name": "python3"
  },
  "language_info": {
   "codemirror_mode": {
    "name": "ipython",
    "version": 3
   },
   "file_extension": ".py",
   "mimetype": "text/x-python",
   "name": "python",
   "nbconvert_exporter": "python",
   "pygments_lexer": "ipython3",
   "version": "3.8.5"
  }
 },
 "nbformat": 4,
 "nbformat_minor": 4
}
